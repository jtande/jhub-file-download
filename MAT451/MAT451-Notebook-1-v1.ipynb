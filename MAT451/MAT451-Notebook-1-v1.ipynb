{
 "cells": [
  {
   "cell_type": "markdown",
   "metadata": {
    "id": "4YtYXkFiuQ-B"
   },
   "source": [
    "# Notebook 1: Shape hunting\n",
    "\n",
    "In this notebook, we will look at Vietoris-Rips complexes on noisy data and see if it can detect the shape.\n",
    "\n",
    "This notebook contains **2 compulsory Exercises.**"
   ]
  },
  {
   "cell_type": "code",
   "execution_count": null,
   "metadata": {
    "id": "iKFRwITZuxEe"
   },
   "outputs": [],
   "source": [
    "!pip install gudhi"
   ]
  },
  {
   "cell_type": "code",
   "execution_count": null,
   "metadata": {
    "id": "dhQ3EsxQu2oM"
   },
   "outputs": [],
   "source": [
    "#some imports\n",
    "import gudhi\n",
    "import numpy as np\n",
    "import matplotlib.pyplot as plt"
   ]
  },
  {
   "cell_type": "markdown",
   "metadata": {
    "id": "4nN9J-AWwKiw"
   },
   "source": [
    "Documentation for `gudhi`, just for reference:\n",
    "http://gudhi.gforge.inria.fr/python/latest/"
   ]
  },
  {
   "cell_type": "markdown",
   "metadata": {
    "id": "kCqZDyVeum_E"
   },
   "source": [
    "## Example 1: a noisy circle\n",
    "Let's start with a noisy data set sampled from a circle. See Notebook 0 for the details on how we generated this data set. We'll use less points than we did in Notebook 0 to make things easier."
   ]
  },
  {
   "cell_type": "code",
   "execution_count": null,
   "metadata": {
    "id": "aYWLDvlXuM91"
   },
   "outputs": [],
   "source": [
    "#make the noisy data\n",
    "np.random.seed(2022) #feel free to ignore this, it just makes sure everyone gets the same random noise\n",
    "X = [np.cos(t*2*np.pi) for t in np.arange(0,1,0.1)]\n",
    "Y = [np.sin(t*2*np.pi) for t in np.arange(0,1,0.1)]\n",
    "X_noise = np.random.normal(scale=0.05, size=len(X))\n",
    "Y_noise = np.random.normal(scale=0.05, size=len(Y))\n",
    "X = np.array(X) + np.array(X_noise)\n",
    "Y = np.array(Y) + np.array(Y_noise)"
   ]
  },
  {
   "cell_type": "code",
   "execution_count": null,
   "metadata": {
    "id": "ni4DxF-MvNcv"
   },
   "outputs": [],
   "source": [
    "#look at it in the plane\n",
    "plt.scatter(X, Y)\n",
    "plt.axis('equal')"
   ]
  },
  {
   "cell_type": "markdown",
   "metadata": {
    "id": "XtjLVERBvT7e"
   },
   "source": [
    "Now we are going to let gudhi work out the VR-complex persistent homology for this data set. Gudhi has an in-built function for calculating VR-complexes. We use the \"zip\" function to turn our X and Y vectors into a list of pairs $(x_1,y_1), (x_2,y_2), \\ldots $"
   ]
  },
  {
   "cell_type": "code",
   "execution_count": null,
   "metadata": {
    "id": "1lNmufrVvO5W"
   },
   "outputs": [],
   "source": [
    "rips = gudhi.RipsComplex(max_edge_length=10, points=zip(X, Y))"
   ]
  },
  {
   "cell_type": "markdown",
   "metadata": {
    "id": "nMlxGnJ9vvpa"
   },
   "source": [
    "We're now going to turn this complex into a SimplexTree object, which is gudhi's (rather badly named) main way of representing filtered simplicial complexes. We'll specify a maximum dimension so the poor algorithm doesn't have to deal with 30-simplices."
   ]
  },
  {
   "cell_type": "code",
   "execution_count": null,
   "metadata": {
    "id": "MDpiAH43viXp"
   },
   "outputs": [],
   "source": [
    "simplex_tree = rips.create_simplex_tree(max_dimension=3)"
   ]
  },
  {
   "cell_type": "markdown",
   "metadata": {
    "id": "0swUI3I3wtpG"
   },
   "source": [
    "If you want to look inside the SimplexTree, use get_filtration(). It returns what's called an *iterator*, which is like a list but which you can only access by walking through one step at a time. Let's print out the entries. \n",
    "\n",
    "Make sure you understand what you're looking at. Each entry is a simplex (with vertices given by numbers) and a filtration value, that is, the value when it appears for the first time. "
   ]
  },
  {
   "cell_type": "code",
   "execution_count": null,
   "metadata": {
    "id": "WPfvmETEv-ph"
   },
   "outputs": [],
   "source": [
    "printed = 0\n",
    "for f in simplex_tree.get_filtration():\n",
    "  print(f)"
   ]
  },
  {
   "cell_type": "markdown",
   "metadata": {
    "id": "QiE2sA3JxUOm"
   },
   "source": [
    "Okay, time for persistence, let's compute it using get_persistence()."
   ]
  },
  {
   "cell_type": "code",
   "execution_count": null,
   "metadata": {
    "id": "uMlKfGZzwmx6"
   },
   "outputs": [],
   "source": [
    "persistence = simplex_tree.persistence()"
   ]
  },
  {
   "cell_type": "markdown",
   "metadata": {
    "id": "PGUPpqt_x-YO"
   },
   "source": [
    "Let's look at persistence. Each entry has the dimension, followed by the (birth, death) pair. Again, make sure this feels right to you."
   ]
  },
  {
   "cell_type": "code",
   "execution_count": null,
   "metadata": {
    "id": "LIuhXce2x8wZ"
   },
   "outputs": [],
   "source": [
    "persistence"
   ]
  },
  {
   "cell_type": "markdown",
   "metadata": {
    "id": "4t7mUR6XyJo-"
   },
   "source": [
    "You could plot this manually if you wanted, but gudhi has built-in persistence plotting. "
   ]
  },
  {
   "cell_type": "code",
   "execution_count": null,
   "metadata": {
    "id": "_-U5r1Urx9dp"
   },
   "outputs": [],
   "source": [
    "gudhi.plot_persistence_diagram(persistence, legend=True)\n",
    "plt.gca().set_aspect('equal')"
   ]
  },
  {
   "cell_type": "markdown",
   "metadata": {
    "id": "T1WB8DKfyTcg"
   },
   "source": [
    "We can also plot barcodes"
   ]
  },
  {
   "cell_type": "code",
   "execution_count": null,
   "metadata": {
    "id": "0cJW8w3yyNdC"
   },
   "outputs": [],
   "source": [
    "gudhi.plot_persistence_barcode(persistence, legend=True)"
   ]
  },
  {
   "cell_type": "markdown",
   "metadata": {
    "id": "bGUp1pH6yYG5"
   },
   "source": [
    "Did the barcodes and diagram look like you expected? Did they \"find the circle\"? "
   ]
  },
  {
   "cell_type": "markdown",
   "metadata": {
    "id": "7FGI5Qm2ypqM"
   },
   "source": [
    "## Exercise 1: Two circles\n",
    "\n",
    "By filling in the ... below, make two noisy circles with different centers, plot them and then plot their persistence. Depending on your choice of centers, the persistence may or may not look like your expected! \n",
    "\n",
    "**Side note:** If you want to combine two datasets, you can use the np.append() function, like this:"
   ]
  },
  {
   "cell_type": "code",
   "execution_count": null,
   "metadata": {
    "id": "lvsVhkYGyo67"
   },
   "outputs": [],
   "source": [
    "X = [1,1,1]\n",
    "print(\"Before:\", X)\n",
    "X_new = np.append(X, [1,2,3])\n",
    "print(\"After: \", X_new)"
   ]
  },
  {
   "cell_type": "code",
   "execution_count": null,
   "metadata": {
    "id": "wnAuX8jqyWs9"
   },
   "outputs": [],
   "source": [
    "#make the first set of noisy data\n",
    "X = [np.cos(t*2*np.pi) for t in np.arange(0,1,0.1)]\n",
    "Y = [np.sin(t*2*np.pi) for t in np.arange(0,1,0.1)]\n",
    "X_noise = np.random.normal(scale=0.05, size=len(X))\n",
    "Y_noise = np.random.normal(scale=0.05, size=len(Y))\n",
    "X1 = np.array(X) + np.array(X_noise)\n",
    "Y1 = np.array(Y) + np.array(Y_noise)"
   ]
  },
  {
   "cell_type": "code",
   "execution_count": null,
   "metadata": {
    "id": "FGvhFZgR0Qkv"
   },
   "outputs": [],
   "source": [
    "#make the second set of noisy data with a different center\n",
    "X = [np.cos(t*2*np.pi) + ... for t in np.arange(0,1,0.1)]\n",
    "Y = [np.sin(t*2*np.pi) + ... for t in np.arange(0,1,0.1)]\n",
    "X_noise = np.random.normal(scale=0.05, size=len(X))\n",
    "Y_noise = np.random.normal(scale=0.05, size=len(Y))\n",
    "X2 = np.array(X) + np.array(X_noise)\n",
    "Y2 = np.array(Y) + np.array(Y_noise)"
   ]
  },
  {
   "cell_type": "code",
   "execution_count": null,
   "metadata": {
    "id": "RUfxq9BV0Vb2"
   },
   "outputs": [],
   "source": [
    "X_together = np.append(... , ...)\n",
    "Y_together = np.append(... , ...)"
   ]
  },
  {
   "cell_type": "code",
   "execution_count": null,
   "metadata": {
    "id": "vH9XIuNu0eGu"
   },
   "outputs": [],
   "source": [
    "#look at it in the plane\n",
    "plt.scatter(... , ...)\n",
    "plt.axis('equal')"
   ]
  },
  {
   "cell_type": "code",
   "execution_count": null,
   "metadata": {
    "id": "7BqU61_D0hBu"
   },
   "outputs": [],
   "source": [
    "rips = gudhi.RipsComplex(max_edge_length=10, points=zip(... , ...))\n",
    "simplex_tree = rips.create_simplex_tree(max_dimension=3)\n",
    "persistence = ..."
   ]
  },
  {
   "cell_type": "code",
   "execution_count": null,
   "metadata": {
    "id": "Cr8fxzIB0sMs"
   },
   "outputs": [],
   "source": [
    "gudhi.plot_persistence_diagram(..., legend=True)\n",
    "plt.gca().set_aspect('equal')"
   ]
  },
  {
   "cell_type": "code",
   "execution_count": null,
   "metadata": {
    "id": "ALTSnivX0uEJ"
   },
   "outputs": [],
   "source": [
    "gudhi.plot_persistence_barcode(..., legend=True)"
   ]
  },
  {
   "cell_type": "markdown",
   "metadata": {
    "id": "ZrGWMELT1MEH"
   },
   "source": [
    "# Exercise 2: Two circles with different radii\n",
    "\n",
    "**(a)** Write code to make two noisy circles with different centers _and_ different radii. Plot the VR persistence and adjust the noise level, centers and radii until you see two different high persistence points in dimension 1.\n",
    "\n",
    "**(b)** Take what you did for (a) and increase the scale of the noise being added (i.e. the standard deviation) until you only see one high persistence point (i.e. one circle) in the persistence diagram. It may help to make the radii very different.\n",
    "\n",
    "*Note: there's no formal definition of \"high persistence\", so feel free to use your judgement about how far from the diagonal counts as high persistence*"
   ]
  },
  {
   "cell_type": "markdown",
   "metadata": {
    "id": "fu3d_MTT63Tn"
   },
   "source": [
    "# Challenges\n",
    "The following challenges below are for extra credit for 400 level students. For 600 level students, I require that you attempt at least one of these.\n",
    "1. Write some code to generate noisy data with $k$ clusters for a $k$ of your choice. Look the persistence and see if it detects the number of clusters.\n",
    "2. Write a simple algorithm that counts clusters in 2D data by counting persistence features over a certain persistence threshold. Apply this algorithm to the datasets you generated in (1.) and see how often it correctly outputs the number of clusters you designed it to have. \n",
    "3. Make a 3D data set which is a noisy sample from a hollow sphere and compute its persistence."
   ]
  }
 ],
 "metadata": {
  "colab": {
   "name": "Notebook 1_ Shape hunting.ipynb",
   "provenance": []
  },
  "kernelspec": {
   "display_name": "Python 3",
   "language": "python",
   "name": "python3"
  },
  "language_info": {
   "codemirror_mode": {
    "name": "ipython",
    "version": 3
   },
   "file_extension": ".py",
   "mimetype": "text/x-python",
   "name": "python",
   "nbconvert_exporter": "python",
   "pygments_lexer": "ipython3",
   "version": "3.8.8"
  }
 },
 "nbformat": 4,
 "nbformat_minor": 1
}
