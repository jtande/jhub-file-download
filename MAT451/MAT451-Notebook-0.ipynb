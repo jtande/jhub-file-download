{
 "cells": [
  {
   "cell_type": "markdown",
   "metadata": {
    "id": "eYh6uXMxdWrV"
   },
   "source": [
    "# Python and jupyterhub basics\n",
    "\n",
    "Welcome to this `jupyter` notebook! A `jupyter` notebook is a way to organize Python code and text into blocks which can be run one by one. It's my personal favorite way to do lightweight coding with a lot of visual components. This notebook is to introduce you to some basic Python concepts we will need in this course."
   ]
  },
  {
   "cell_type": "markdown",
   "metadata": {
    "id": "8Doiz1cCGUsI"
   },
   "source": [
    "## Running blocks of code\n",
    "\n",
    "The first thing you need to do is know how to run a code block. The grey block below is a _code block_. You can run it by clicking on the little play button that appears on the left when you click on the block. (You can also use Shift+Return as a shortcut)."
   ]
  },
  {
   "cell_type": "code",
   "execution_count": null,
   "metadata": {
    "id": "GWcVZJmdGXWR"
   },
   "outputs": [],
   "source": [
    "print('Welcome to TDA!')"
   ]
  },
  {
   "cell_type": "markdown",
   "metadata": {
    "id": "04i7N89-Gt-0"
   },
   "source": [
    "If you ran it successfully, it should have printed a message for you. That printed message is stored in the notebook as well, so when you download it later on, it'll still be there.\n",
    "\n",
    "One of the basic operations in Python is to store a value in a variable. For example, let's store the value `2.5` in a variable `x`. We can do this by executing the following code block."
   ]
  },
  {
   "cell_type": "code",
   "execution_count": null,
   "metadata": {
    "id": "jHbfC6v_HCvB"
   },
   "outputs": [],
   "source": [
    "x = 2.5"
   ]
  },
  {
   "cell_type": "markdown",
   "metadata": {
    "id": "7yVClvBzHDzC"
   },
   "source": [
    "When you ran the block, nothing was printed as output. However, if you want to see what's in the variable `x`, you can just write a code block with that variable in it, and run it, like so."
   ]
  },
  {
   "cell_type": "code",
   "execution_count": null,
   "metadata": {
    "id": "oDtxAXZ6HcIV"
   },
   "outputs": [],
   "source": [
    "x"
   ]
  },
  {
   "cell_type": "markdown",
   "metadata": {
    "id": "-dkuTO0jHdHQ"
   },
   "source": [
    "This seems very basic once you know it, but it's a fundamental trick for looking inside your variables.\n",
    "\n",
    "You may be wondering how I made this text in between the code blocks. You can make a text block by clicking +Text above. You can also make a code block by clicking +Code. The text blocks use Markdown typesetting, but we don't need to get into that."
   ]
  },
  {
   "cell_type": "markdown",
   "metadata": {
    "id": "x3VKgW4ZehWW"
   },
   "source": [
    "## Installing and importing a library"
   ]
  },
  {
   "cell_type": "markdown",
   "metadata": {},
   "source": [
    "We will need to use a few non-standard Python libraries, for example, we will need the Python library `gudhi` to do our TDA computations. To install most libraries, we can use `pip`. This is not technically a Python function, but a shell command (ignore this if you don't care). For this reason, we need to start the line with a `!` symbol. Here's an example"
   ]
  },
  {
   "cell_type": "code",
   "execution_count": 1,
   "metadata": {},
   "outputs": [
    {
     "name": "stdout",
     "output_type": "stream",
     "text": [
      "Collecting gudhi\n",
      "  Using cached gudhi-3.5.0-cp39-cp39-manylinux_2_17_x86_64.manylinux2014_x86_64.whl (29.3 MB)\n",
      "Requirement already satisfied: numpy>=1.15.0 in /opt/conda/lib/python3.9/site-packages (from gudhi) (1.20.3)\n",
      "Installing collected packages: gudhi\n",
      "Successfully installed gudhi-3.5.0\n"
     ]
    }
   ],
   "source": [
    "!pip install gudhi"
   ]
  },
  {
   "cell_type": "markdown",
   "metadata": {
    "id": "DJpshfUheJWl"
   },
   "source": [
    "Remember that you will have to `pip install` libraries every time you restart your server. To use non-standard Python libraries, we need to import them. Try and execute the code block below to import `gudhi`. "
   ]
  },
  {
   "cell_type": "code",
   "execution_count": 2,
   "metadata": {
    "id": "n7AMEkH1eGlw"
   },
   "outputs": [],
   "source": [
    "import gudhi"
   ]
  },
  {
   "cell_type": "markdown",
   "metadata": {
    "id": "eg-WS9kBjWht"
   },
   "source": [
    "## Basic Example 1: Handling arrays\n",
    "We will frequently have to deal with values stored as a 2D array or matrix, and it helps to know how to manipulate these. The main Python library (which you don't need to install) for handling vectors and arrays is `numpy`."
   ]
  },
  {
   "cell_type": "code",
   "execution_count": 4,
   "metadata": {},
   "outputs": [],
   "source": [
    "import numpy"
   ]
  },
  {
   "cell_type": "markdown",
   "metadata": {},
   "source": [
    "Perhaps the most important data structure in Python is a list. You can make a list from scratch like this:"
   ]
  },
  {
   "cell_type": "code",
   "execution_count": 31,
   "metadata": {},
   "outputs": [],
   "source": [
    "l = [0,1,2,3,4,5]"
   ]
  },
  {
   "cell_type": "code",
   "execution_count": 32,
   "metadata": {},
   "outputs": [
    {
     "data": {
      "text/plain": [
       "[0, 1, 2, 3, 4, 5]"
      ]
     },
     "execution_count": 32,
     "metadata": {},
     "output_type": "execute_result"
    }
   ],
   "source": [
    "l"
   ]
  },
  {
   "cell_type": "markdown",
   "metadata": {},
   "source": [
    "Accessing elements of lists can be done using square brackets like this. Remember, Python indexes from 0!"
   ]
  },
  {
   "cell_type": "code",
   "execution_count": 33,
   "metadata": {},
   "outputs": [
    {
     "data": {
      "text/plain": [
       "2"
      ]
     },
     "execution_count": 33,
     "metadata": {},
     "output_type": "execute_result"
    }
   ],
   "source": [
    "l[2]"
   ]
  },
  {
   "cell_type": "markdown",
   "metadata": {},
   "source": [
    "An important shortcut to know about is the `range` function. The function `range(n)` returns all the whole numbers from $0$ to $n-1$. It doesn't actually give you the list, however (because of a quirk of Python I won't get into here). So we have to turn it into a list by using `list()`. To summarize, we could have made `l` this way:"
   ]
  },
  {
   "cell_type": "code",
   "execution_count": 36,
   "metadata": {},
   "outputs": [],
   "source": [
    "l = list(range(6))"
   ]
  },
  {
   "cell_type": "code",
   "execution_count": 37,
   "metadata": {},
   "outputs": [
    {
     "data": {
      "text/plain": [
       "[0, 1, 2, 3, 4, 5]"
      ]
     },
     "execution_count": 37,
     "metadata": {},
     "output_type": "execute_result"
    }
   ],
   "source": [
    "l"
   ]
  },
  {
   "cell_type": "markdown",
   "metadata": {},
   "source": [
    "The basic data structure in `numpy` is an array. You can build an array from a list like this:"
   ]
  },
  {
   "cell_type": "code",
   "execution_count": 38,
   "metadata": {
    "id": "QK7-ozk1jY1P"
   },
   "outputs": [],
   "source": [
    "X = np.array(l)"
   ]
  },
  {
   "cell_type": "code",
   "execution_count": 39,
   "metadata": {
    "id": "AvvgYtWXjpd6"
   },
   "outputs": [
    {
     "data": {
      "text/plain": [
       "array([0, 1, 2, 3, 4, 5])"
      ]
     },
     "execution_count": 39,
     "metadata": {},
     "output_type": "execute_result"
    }
   ],
   "source": [
    "X"
   ]
  },
  {
   "cell_type": "markdown",
   "metadata": {
    "id": "4yc-Y1Okjt6g"
   },
   "source": [
    "We have now made `X` a 1D array. If we want a 2D array, we have to input a list of lists, like so."
   ]
  },
  {
   "cell_type": "code",
   "execution_count": 7,
   "metadata": {
    "id": "Smp243imjtLN"
   },
   "outputs": [],
   "source": [
    "M = np.array([[1,2,3],[4,5,6]])"
   ]
  },
  {
   "cell_type": "code",
   "execution_count": 8,
   "metadata": {
    "id": "JkRqEfnuj21I"
   },
   "outputs": [
    {
     "data": {
      "text/plain": [
       "array([[1, 2, 3],\n",
       "       [4, 5, 6]])"
      ]
     },
     "execution_count": 8,
     "metadata": {},
     "output_type": "execute_result"
    }
   ],
   "source": [
    "M"
   ]
  },
  {
   "cell_type": "markdown",
   "metadata": {
    "id": "Fr5AYVXbj4eB"
   },
   "source": [
    "What if I want to access the (1,2) entry of M, that is, the entry in row 1 and column 2? (Remember, Python indexes from 0). This is how you do that."
   ]
  },
  {
   "cell_type": "code",
   "execution_count": 9,
   "metadata": {
    "id": "J--9eOfGj3Ce"
   },
   "outputs": [
    {
     "data": {
      "text/plain": [
       "6"
      ]
     },
     "execution_count": 9,
     "metadata": {},
     "output_type": "execute_result"
    }
   ],
   "source": [
    "M[1,2]"
   ]
  },
  {
   "cell_type": "markdown",
   "metadata": {
    "id": "fOTnC08OkEuZ"
   },
   "source": [
    "By using a `:`, you can access whole rows or whole columns. "
   ]
  },
  {
   "cell_type": "code",
   "execution_count": 10,
   "metadata": {
    "id": "Nd-pk_HWkClA"
   },
   "outputs": [
    {
     "data": {
      "text/plain": [
       "array([4, 5, 6])"
      ]
     },
     "execution_count": 10,
     "metadata": {},
     "output_type": "execute_result"
    }
   ],
   "source": [
    "M[1,:]"
   ]
  },
  {
   "cell_type": "code",
   "execution_count": 11,
   "metadata": {
    "id": "oHGAH3kHkJQA"
   },
   "outputs": [
    {
     "data": {
      "text/plain": [
       "array([3, 6])"
      ]
     },
     "execution_count": 11,
     "metadata": {},
     "output_type": "execute_result"
    }
   ],
   "source": [
    "M[:,2]"
   ]
  },
  {
   "cell_type": "markdown",
   "metadata": {
    "id": "MO4DEqwMkN_0"
   },
   "source": [
    "A common error is to try and access a row that doesn't exist. Here's what happens if I try to access the 5th row of `M`."
   ]
  },
  {
   "cell_type": "code",
   "execution_count": 12,
   "metadata": {
    "id": "PNkb-LxokKZg"
   },
   "outputs": [
    {
     "ename": "IndexError",
     "evalue": "index 5 is out of bounds for axis 0 with size 2",
     "output_type": "error",
     "traceback": [
      "\u001b[0;31m---------------------------------------------------------------------------\u001b[0m",
      "\u001b[0;31mIndexError\u001b[0m                                Traceback (most recent call last)",
      "\u001b[0;32m<ipython-input-12-71da7482ae6c>\u001b[0m in \u001b[0;36m<module>\u001b[0;34m\u001b[0m\n\u001b[0;32m----> 1\u001b[0;31m \u001b[0mM\u001b[0m\u001b[0;34m[\u001b[0m\u001b[0;36m5\u001b[0m\u001b[0;34m,\u001b[0m\u001b[0;34m:\u001b[0m\u001b[0;34m]\u001b[0m\u001b[0;34m\u001b[0m\u001b[0;34m\u001b[0m\u001b[0m\n\u001b[0m",
      "\u001b[0;31mIndexError\u001b[0m: index 5 is out of bounds for axis 0 with size 2"
     ]
    }
   ],
   "source": [
    "M[5,:]"
   ]
  },
  {
   "cell_type": "markdown",
   "metadata": {
    "id": "f1KldTx8kVlt"
   },
   "source": [
    "A crucial part of learning to code in a new environment is learning what different errors mean. Some are helpful, like the above. Some are not so helpful though. When in doubt, **Google the error**. You would be surprised how often researchers (e.g. me) do this every day while coding."
   ]
  },
  {
   "cell_type": "markdown",
   "metadata": {
    "id": "QFhWyfe7ktot"
   },
   "source": [
    "There's too much basic Python to cover in a single notebook, but here is an important trick that I want to mention. Python _loves_ lists (things that look like `[a,b,c]`). It is set up to handle them very nicely. _List comprehension_ is a way of working through a list one element at a time and calculating some output. For example, suppose I have this list: "
   ]
  },
  {
   "cell_type": "code",
   "execution_count": 13,
   "metadata": {
    "id": "2trazmXpkUhi"
   },
   "outputs": [],
   "source": [
    "l = [1,2,3,4,5]"
   ]
  },
  {
   "cell_type": "markdown",
   "metadata": {
    "id": "aawZZkYHlJM7"
   },
   "source": [
    "I want to create a new list whose entries are the entries of `l` times two. I can do this with list comprehension like so."
   ]
  },
  {
   "cell_type": "code",
   "execution_count": 14,
   "metadata": {
    "id": "4wgZSHCalHR1"
   },
   "outputs": [],
   "source": [
    "m = [2*x for x in l]"
   ]
  },
  {
   "cell_type": "code",
   "execution_count": 15,
   "metadata": {
    "id": "jJEi570LlTSu"
   },
   "outputs": [
    {
     "data": {
      "text/plain": [
       "[2, 4, 6, 8, 10]"
      ]
     },
     "execution_count": 15,
     "metadata": {},
     "output_type": "execute_result"
    }
   ],
   "source": [
    "m"
   ]
  },
  {
   "cell_type": "markdown",
   "metadata": {
    "id": "3pTPpXGVlVAl"
   },
   "source": [
    "I can also create a list consisting only of those elements which are greater than two like this."
   ]
  },
  {
   "cell_type": "code",
   "execution_count": 16,
   "metadata": {
    "id": "fv4ERFA7lT-v"
   },
   "outputs": [],
   "source": [
    "m = [x for x in l if x > 2]"
   ]
  },
  {
   "cell_type": "code",
   "execution_count": 17,
   "metadata": {
    "id": "oi7wzzk4lgXB"
   },
   "outputs": [
    {
     "data": {
      "text/plain": [
       "[3, 4, 5]"
      ]
     },
     "execution_count": 17,
     "metadata": {},
     "output_type": "execute_result"
    }
   ],
   "source": [
    "m"
   ]
  },
  {
   "cell_type": "markdown",
   "metadata": {
    "id": "boYKp6U3lit9"
   },
   "source": [
    "If you want to do something to a list, chances are you can do it with list comprehension. "
   ]
  },
  {
   "cell_type": "markdown",
   "metadata": {
    "id": "V0ci0Al7el1W"
   },
   "source": [
    "## Basic Example 2: Making and plotting noisy data\n",
    "\n",
    "As a basic exercise in Python, we are going to generate some noisy point cloud data and plot it. "
   ]
  },
  {
   "cell_type": "markdown",
   "metadata": {
    "id": "Hjc_Jv8Neu1Z"
   },
   "source": [
    "Let's generate a set of points which lie on a circle. We'll use list comprehension, which makes a list of numbers (or other objects) using a for loop. First let's generate a list of evenly spaced numbers between 0 and 1 using the numpy function arange."
   ]
  },
  {
   "cell_type": "code",
   "execution_count": 18,
   "metadata": {
    "id": "IS3-AI_5fzKC"
   },
   "outputs": [],
   "source": [
    "points_in_interval = np.arange(0,1,0.01)"
   ]
  },
  {
   "cell_type": "markdown",
   "metadata": {
    "id": "zyaOnk5Sf537"
   },
   "source": [
    "How do we see what's inside `points_in_interval`? That's right, just put in the variable and run the code block."
   ]
  },
  {
   "cell_type": "code",
   "execution_count": 19,
   "metadata": {
    "id": "zPn4UCusgCp1"
   },
   "outputs": [
    {
     "data": {
      "text/plain": [
       "array([0.  , 0.01, 0.02, 0.03, 0.04, 0.05, 0.06, 0.07, 0.08, 0.09, 0.1 ,\n",
       "       0.11, 0.12, 0.13, 0.14, 0.15, 0.16, 0.17, 0.18, 0.19, 0.2 , 0.21,\n",
       "       0.22, 0.23, 0.24, 0.25, 0.26, 0.27, 0.28, 0.29, 0.3 , 0.31, 0.32,\n",
       "       0.33, 0.34, 0.35, 0.36, 0.37, 0.38, 0.39, 0.4 , 0.41, 0.42, 0.43,\n",
       "       0.44, 0.45, 0.46, 0.47, 0.48, 0.49, 0.5 , 0.51, 0.52, 0.53, 0.54,\n",
       "       0.55, 0.56, 0.57, 0.58, 0.59, 0.6 , 0.61, 0.62, 0.63, 0.64, 0.65,\n",
       "       0.66, 0.67, 0.68, 0.69, 0.7 , 0.71, 0.72, 0.73, 0.74, 0.75, 0.76,\n",
       "       0.77, 0.78, 0.79, 0.8 , 0.81, 0.82, 0.83, 0.84, 0.85, 0.86, 0.87,\n",
       "       0.88, 0.89, 0.9 , 0.91, 0.92, 0.93, 0.94, 0.95, 0.96, 0.97, 0.98,\n",
       "       0.99])"
      ]
     },
     "execution_count": 19,
     "metadata": {},
     "output_type": "execute_result"
    }
   ],
   "source": [
    "points_in_interval"
   ]
  },
  {
   "cell_type": "markdown",
   "metadata": {
    "id": "T-gkjoyggFl8"
   },
   "source": [
    "Now we can generate the x and y coordinates of our circular data set using a list comprehension. Our x-coordinates need to be a list of $\\cos(2 \\pi t)$ values where t goes from 0 to 1. Our y-coordinates are similar, just with sin not cos.\n",
    "\n",
    "*Python tip:* lines with # signs are comments and won't be executed. Use them for making your code more readable."
   ]
  },
  {
   "cell_type": "code",
   "execution_count": 20,
   "metadata": {
    "id": "zDtxeXlpeuCV"
   },
   "outputs": [],
   "source": [
    "#x-coordinates\n",
    "X = [np.cos(t*2*np.pi) for t in points_in_interval]"
   ]
  },
  {
   "cell_type": "code",
   "execution_count": 21,
   "metadata": {
    "id": "fjpgh_MkfGId"
   },
   "outputs": [],
   "source": [
    "#y-coordinates\n",
    "Y = [np.sin(t*2*np.pi) for t in points_in_interval]"
   ]
  },
  {
   "cell_type": "markdown",
   "metadata": {
    "id": "EUJIcsWqgpfc"
   },
   "source": [
    "Let's check we've done it right by plotting our data. We'll use matplotlib, a plotting library."
   ]
  },
  {
   "cell_type": "code",
   "execution_count": 22,
   "metadata": {
    "id": "HWK38CRNgnUi"
   },
   "outputs": [],
   "source": [
    "import matplotlib.pyplot as plt"
   ]
  },
  {
   "cell_type": "markdown",
   "metadata": {
    "id": "M6P1EDglg7F2"
   },
   "source": [
    "The function scatter() from matplotlib takes the x-coordinates and y-coordinates as arguments."
   ]
  },
  {
   "cell_type": "code",
   "execution_count": 23,
   "metadata": {
    "id": "OsWJ5k54g6av"
   },
   "outputs": [
    {
     "data": {
      "text/plain": [
       "<matplotlib.collections.PathCollection at 0x7fb37f8216d0>"
      ]
     },
     "execution_count": 23,
     "metadata": {},
     "output_type": "execute_result"
    },
    {
     "data": {
      "image/png": "[encoded data removed]",
      "text/plain": [
       "<Figure size 432x288 with 1 Axes>"
      ]
     },
     "metadata": {
      "needs_background": "light"
     },
     "output_type": "display_data"
    }
   ],
   "source": [
    "plt.scatter(X, Y)"
   ]
  },
  {
   "cell_type": "markdown",
   "metadata": {
    "id": "as0ciX_BhaN0"
   },
   "source": [
    "It doesn't look quite circular, because the axes are not equally scaled. That's easy to fix if we really want to..."
   ]
  },
  {
   "cell_type": "code",
   "execution_count": 24,
   "metadata": {
    "id": "bfWfbSQcg47u"
   },
   "outputs": [
    {
     "data": {
      "text/plain": [
       "(-1.1, 1.1, -1.1, 1.1)"
      ]
     },
     "execution_count": 24,
     "metadata": {},
     "output_type": "execute_result"
    },
    {
     "data": {
      "image/png": "[encoded data removed]",
      "text/plain": [
       "<Figure size 432x288 with 1 Axes>"
      ]
     },
     "metadata": {
      "needs_background": "light"
     },
     "output_type": "display_data"
    }
   ],
   "source": [
    "plt.scatter(X, Y)\n",
    "plt.axis('equal')"
   ]
  },
  {
   "cell_type": "markdown",
   "metadata": {
    "id": "wEknC_xNhlsv"
   },
   "source": [
    "Okay, time to noise up this data. We can use numpy's random.normal function to make a list of random values from a normal distribution.\n",
    "The \"scale\" parameter is just the standard deviation of the distribution we're sampling from. We'll make the size of the list equal to the length of X, so len(X)."
   ]
  },
  {
   "cell_type": "code",
   "execution_count": 25,
   "metadata": {
    "id": "vi7ugyU8hhya"
   },
   "outputs": [],
   "source": [
    "X_noise = np.random.normal(scale=0.1, size=len(X))"
   ]
  },
  {
   "cell_type": "markdown",
   "metadata": {
    "id": "Ae6K8GneiV-V"
   },
   "source": [
    "Look at it!"
   ]
  },
  {
   "cell_type": "code",
   "execution_count": 26,
   "metadata": {
    "id": "LUuiIoiHh6wk"
   },
   "outputs": [
    {
     "data": {
      "text/plain": [
       "array([-0.03429359,  0.12085349,  0.10215947,  0.14241216,  0.07323329,\n",
       "       -0.03731296, -0.0998826 ,  0.00525759, -0.12594086, -0.16779202,\n",
       "       -0.03064327, -0.03904876, -0.16551189,  0.04393631, -0.07843432,\n",
       "       -0.09579599, -0.00037806,  0.0852998 ,  0.01574685, -0.01398536,\n",
       "       -0.14335578, -0.10815349, -0.15265316, -0.12138789, -0.04820525,\n",
       "        0.01364332, -0.03500548,  0.02054686,  0.08513526, -0.02749153,\n",
       "        0.10595277,  0.04784293,  0.19716824,  0.13495691, -0.0030784 ,\n",
       "        0.07759176, -0.05226853,  0.1391966 ,  0.07220943,  0.09787712,\n",
       "        0.04192616, -0.03770973, -0.18645573,  0.01423237, -0.09407368,\n",
       "       -0.03323092,  0.00854003, -0.03963921,  0.17999125, -0.22780111,\n",
       "        0.00869963, -0.03177025,  0.18106489, -0.17770395, -0.03797841,\n",
       "        0.08058026,  0.05042307, -0.05153473, -0.07618187,  0.03575828,\n",
       "       -0.06192959, -0.03758742,  0.11883948, -0.10082493, -0.06752   ,\n",
       "        0.08440727, -0.13931095,  0.03092883, -0.24905224, -0.07610054,\n",
       "        0.12613421, -0.04867205,  0.01471962, -0.13495862, -0.04481134,\n",
       "        0.03940434, -0.01718708, -0.08240311, -0.01060119,  0.07083416,\n",
       "        0.02940585, -0.13789803,  0.10283828,  0.10778787, -0.11571883,\n",
       "       -0.02967925,  0.08701373,  0.08024876, -0.15930998,  0.02535716,\n",
       "       -0.14668802,  0.1159499 ,  0.0222313 , -0.14214697, -0.12200369,\n",
       "        0.00765727, -0.00974182, -0.06859298, -0.16446759, -0.21135705])"
      ]
     },
     "execution_count": 26,
     "metadata": {},
     "output_type": "execute_result"
    }
   ],
   "source": [
    "X_noise"
   ]
  },
  {
   "cell_type": "markdown",
   "metadata": {
    "id": "AJQVCXMOiZF5"
   },
   "source": [
    "We can plot a histogram of it to check it looks \"normal\"."
   ]
  },
  {
   "cell_type": "code",
   "execution_count": 27,
   "metadata": {
    "id": "L8yG6crTiXKJ"
   },
   "outputs": [
    {
     "data": {
      "text/plain": [
       "(array([ 3.,  5., 12.,  9., 21., 14., 11., 15.,  7.,  3.]),\n",
       " array([-0.24905224, -0.20443019, -0.15980814, -0.1151861 , -0.07056405,\n",
       "        -0.025942  ,  0.01868005,  0.06330209,  0.10792414,  0.15254619,\n",
       "         0.19716824]),\n",
       " <BarContainer object of 10 artists>)"
      ]
     },
     "execution_count": 27,
     "metadata": {},
     "output_type": "execute_result"
    },
    {
     "data": {
      "image/png": "[encoded data removed]",
      "text/plain": [
       "<Figure size 432x288 with 1 Axes>"
      ]
     },
     "metadata": {
      "needs_background": "light"
     },
     "output_type": "display_data"
    }
   ],
   "source": [
    "plt.hist(X_noise)"
   ]
  },
  {
   "cell_type": "markdown",
   "metadata": {
    "id": "17TJttT1ie0X"
   },
   "source": [
    "Okay let's make the Y noise and add the noise to our vectors. In order to add lists properly, we have to turn them into numpy arrays, i.e. vectors."
   ]
  },
  {
   "cell_type": "code",
   "execution_count": 28,
   "metadata": {
    "id": "EuzjxQAiidBZ"
   },
   "outputs": [],
   "source": [
    "Y_noise = np.random.normal(scale=0.1, size=len(X))\n",
    "#turn the X and Y into vectors and add the noise\n",
    "X = np.array(X) + np.array(X_noise)\n",
    "Y = np.array(Y) + np.array(Y_noise)"
   ]
  },
  {
   "cell_type": "markdown",
   "metadata": {
    "id": "mWp0MHQ5jR_d"
   },
   "source": [
    "We can use the same code as before to look at our noisy data."
   ]
  },
  {
   "cell_type": "code",
   "execution_count": 29,
   "metadata": {
    "id": "6sWgqOv6jQe9"
   },
   "outputs": [
    {
     "data": {
      "text/plain": [
       "(-1.3433541995804164,\n",
       " 1.2422257700806631,\n",
       " -1.3270836948893678,\n",
       " 1.2624318600663127)"
      ]
     },
     "execution_count": 29,
     "metadata": {},
     "output_type": "execute_result"
    },
    {
     "data": {
      "image/png": "[encoded data removed]",
      "text/plain": [
       "<Figure size 432x288 with 1 Axes>"
      ]
     },
     "metadata": {
      "needs_background": "light"
     },
     "output_type": "display_data"
    }
   ],
   "source": [
    "plt.scatter(X, Y)\n",
    "plt.axis('equal')"
   ]
  },
  {
   "cell_type": "markdown",
   "metadata": {},
   "source": [
    "# Exercise 1\n",
    "(a) Fill in the ... below to make `l` a list of all number between 0 and 100 whose square is less than 1000.\n"
   ]
  },
  {
   "cell_type": "code",
   "execution_count": null,
   "metadata": {},
   "outputs": [],
   "source": [
    "l = [n for n in range(100) if ...]"
   ]
  },
  {
   "cell_type": "markdown",
   "metadata": {},
   "source": [
    "(b) Fill in the ... below to make `y` a list of all the squares of numbers in `l`"
   ]
  },
  {
   "cell_type": "code",
   "execution_count": null,
   "metadata": {},
   "outputs": [],
   "source": [
    "y = [... for n in l]"
   ]
  },
  {
   "cell_type": "markdown",
   "metadata": {},
   "source": [
    "(c) Plot a scatter plot of points with x-coordinates `l` and y-coordinates `y`."
   ]
  },
  {
   "cell_type": "code",
   "execution_count": null,
   "metadata": {},
   "outputs": [],
   "source": [
    "plt.scatter(...,...)"
   ]
  },
  {
   "cell_type": "markdown",
   "metadata": {},
   "source": [
    "# Exercise 2\n",
    "\n",
    "`For` loops are an extremely important part of Python coding. I won't go over them in detail here, but here is an example. Note the syntax: you start with `for`, then the variable name, then the list of values after `in`. The next line is what is being done for each `n` and it has to be indented to work."
   ]
  },
  {
   "cell_type": "code",
   "execution_count": 41,
   "metadata": {},
   "outputs": [
    {
     "name": "stdout",
     "output_type": "stream",
     "text": [
      "1\n",
      "2.5\n",
      "6\n"
     ]
    }
   ],
   "source": [
    "for n in [1,2.5,6]:\n",
    "    print(n)"
   ]
  },
  {
   "cell_type": "markdown",
   "metadata": {},
   "source": [
    "(a) Store the following matrix as an array `A`:\n",
    "\n",
    "$$\n",
    "\\begin{pmatrix}\n",
    "1 & 2 & 3 \\\\\n",
    "4 & 5 & 6 \\\\\n",
    "\\end{pmatrix}\n",
    "$$"
   ]
  },
  {
   "cell_type": "code",
   "execution_count": null,
   "metadata": {},
   "outputs": [],
   "source": [
    "A = np.array(...)"
   ]
  },
  {
   "cell_type": "markdown",
   "metadata": {},
   "source": [
    "(b) Print the second column of A."
   ]
  },
  {
   "cell_type": "code",
   "execution_count": null,
   "metadata": {},
   "outputs": [],
   "source": [
    "print(...)"
   ]
  },
  {
   "cell_type": "markdown",
   "metadata": {},
   "source": []
  },
  {
   "cell_type": "code",
   "execution_count": null,
   "metadata": {},
   "outputs": [],
   "source": []
  },
  {
   "cell_type": "markdown",
   "metadata": {
    "id": "zjiVK0b_Ig2F"
   },
   "source": [
    "## Handing in your work"
   ]
  },
  {
   "cell_type": "markdown",
   "metadata": {
    "id": "x2S3kr3xIjDx"
   },
   "source": [
    "When you've finished a notebook, you need to download the .ipynb file and upload it to Canvas in the right assignment. Try this now. Download this file (the .ipynb file) and upload it to Coding Assignment 0."
   ]
  }
 ],
 "metadata": {
  "colab": {
   "collapsed_sections": [],
   "name": "MAT 451 Sp22 Notebook 0: Python basics",
   "provenance": []
  },
  "kernelspec": {
   "display_name": "Python 3",
   "language": "python",
   "name": "python3"
  },
  "language_info": {
   "codemirror_mode": {
    "name": "ipython",
    "version": 3
   },
   "file_extension": ".py",
   "mimetype": "text/x-python",
   "name": "python",
   "nbconvert_exporter": "python",
   "pygments_lexer": "ipython3",
   "version": "3.9.4"
  }
 },
 "nbformat": 4,
 "nbformat_minor": 4
}
