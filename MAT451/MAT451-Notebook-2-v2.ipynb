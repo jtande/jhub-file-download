{
 "cells": [
  {
   "cell_type": "markdown",
   "metadata": {
    "id": "RnLOmERSFZD2"
   },
   "source": [
    "# Notebook 2: Persistence of grayscale images\n",
    "In this notebook we'll use `gudhi` to compute sublevel set filtrations. As an example application, we'll build sublevel set filtrations from grayscale images. The persistent homology of these filtrations summarizes the patterns of dark and light in these images and can help us tell different kinds of images apart.\n",
    "\n",
    "This Notebook has **two compulsory Exercises.** "
   ]
  },
  {
   "cell_type": "code",
   "execution_count": null,
   "metadata": {
    "colab": {
     "base_uri": "https://localhost:8080/"
    },
    "id": "JlHx-6y0Fy-Z",
    "outputId": "4793281b-272a-45dd-f13b-24a804472cc2"
   },
   "outputs": [],
   "source": [
    "!pip install gudhi"
   ]
  },
  {
   "cell_type": "code",
   "execution_count": null,
   "metadata": {},
   "outputs": [],
   "source": [
    "import numpy as np\n",
    "import matplotlib.pyplot as plt\n",
    "from PIL import Image\n",
    "import gudhi\n",
    "import os"
   ]
  },
  {
   "cell_type": "markdown",
   "metadata": {
    "id": "nRgzD-1GF4jI"
   },
   "source": [
    "This next bit of code is just to check that the data is in the same folder as this notebook."
   ]
  },
  {
   "cell_type": "code",
   "execution_count": null,
   "metadata": {},
   "outputs": [],
   "source": [
    "if os.path.exists('tda-texture-exercise'):\n",
    "    print('The data is in the correct folder. Continue!')\n",
    "else:\n",
    "    print('Can\\'t find the data, please copy the folder tda-texture-exercise into your home directory')"
   ]
  },
  {
   "cell_type": "markdown",
   "metadata": {
    "id": "emmw05waGZRn"
   },
   "source": [
    "## Looking at the data\n",
    "Our dataset contains images of various textures. An important problem in computer vision is to be able to tell textures like these apart (say for processing satellite images). Let's take a look at one of the images in the dataset."
   ]
  },
  {
   "cell_type": "code",
   "execution_count": null,
   "metadata": {
    "id": "M3WMRRJDGRDz"
   },
   "outputs": [],
   "source": [
    "#loads one image\n",
    "im = Image.open(\"tda-texture-exercise/grasshe.tiff\")"
   ]
  },
  {
   "cell_type": "markdown",
   "metadata": {
    "id": "pUU0J6ZPGrcp"
   },
   "source": [
    "Grayscale images like these are actually really simple. To a computer, they are just 2D arrays of numbers indicating the pixel color. Grayscale images have pixel values between 0 (black) and 255 (white). We can turn our image into an array of numbers like this:"
   ]
  },
  {
   "cell_type": "code",
   "execution_count": null,
   "metadata": {
    "id": "ou_HHvZdGiIJ"
   },
   "outputs": [],
   "source": [
    "imarray = np.array(im)"
   ]
  },
  {
   "cell_type": "markdown",
   "metadata": {
    "id": "LtZAN8SKG8eK"
   },
   "source": [
    "Let's look at this array."
   ]
  },
  {
   "cell_type": "code",
   "execution_count": null,
   "metadata": {
    "colab": {
     "base_uri": "https://localhost:8080/"
    },
    "id": "qLvKyksZG2ce",
    "outputId": "a8b7353b-aa18-42ad-bae1-96c445ecc0b2"
   },
   "outputs": [],
   "source": [
    "imarray"
   ]
  },
  {
   "cell_type": "markdown",
   "metadata": {
    "id": "cHERMgYzG-TA"
   },
   "source": [
    "To turn the array back into an image, we can use `imshow`. The argument `cmap` tells the display how to convert the number into a color."
   ]
  },
  {
   "cell_type": "code",
   "execution_count": null,
   "metadata": {
    "colab": {
     "base_uri": "https://localhost:8080/",
     "height": 287
    },
    "id": "nI6UWGrRG3GA",
    "outputId": "24035e82-aac5-4e81-84fc-271c2e283921"
   },
   "outputs": [],
   "source": [
    "plt.imshow(imarray, cmap='gray')"
   ]
  },
  {
   "cell_type": "markdown",
   "metadata": {
    "id": "_hsGTbQxHrHm"
   },
   "source": [
    "## Turning an image into a cubical complex with a filter function.\n",
    "\n",
    "We need to turn our image into a cubical complex with a filter function. For our filter function, we'll use the pixel values. Let's demonstrate this on one piece of the image above. Since the image is just an array (i.e. matrix now), we can grab the top-left corner by asking for the $(i,j)$ entries with $i < P$ and $j < Q$ for some values of $P$ and $Q$.\n",
    "\n",
    "_Syntax_: If M is a matrix, `M[a:b,c:d]` pulls out the entries $(i,j)$ where $a \\leq i < b$ and $c \\leq j < d$. Everything is indexed from zero as always in Python!\n",
    "\n",
    "We'll pull out a particular small piece of the above image so we can see the persistent homology in action."
   ]
  },
  {
   "cell_type": "code",
   "execution_count": null,
   "metadata": {
    "colab": {
     "base_uri": "https://localhost:8080/",
     "height": 283
    },
    "id": "PQ4yv9MAITP-",
    "outputId": "16d19321-8452-48e8-c2f0-2aaa185b127b"
   },
   "outputs": [],
   "source": [
    "#get a piece of the top left corner of the grass image -- see Syntax above\n",
    "piece = imarray[0:12,4:12]\n",
    "plt.imshow(piece, cmap='gray')"
   ]
  },
  {
   "cell_type": "markdown",
   "metadata": {
    "id": "GPRb3M5bDFW0"
   },
   "source": [
    "Our goal is to turn the image above into a cubical complex with a filtration function on the cubes. Each pixel is going to be a square, that is, a 2-cube. \n",
    "Fortunately, `gudhi` has an object type specifically designed to handle images like these that automatically builds this cube complex. We need to tell it (a) what the dimensions of our grid are and (b) what the filtration values should be.\n",
    "\n",
    "When choosing filtration values, we have two natural choices:\n",
    "- assign higher values to lighter pixels\n",
    "- assign higher values to darker pixels\n",
    "\n",
    "Since it's slightly easier to visualize, we'll do the second one. This means that we want the filter value of a pixel to be $255 - x$, where $x$ is the pixel value in the image (remember that higher pixel values mean brighter in our array). Thus we want to work with this array:"
   ]
  },
  {
   "cell_type": "code",
   "execution_count": null,
   "metadata": {
    "colab": {
     "base_uri": "https://localhost:8080/"
    },
    "id": "1kmzxMLQBVGT",
    "outputId": "f312f07a-4ee8-441f-b86c-435ea7872f2c"
   },
   "outputs": [],
   "source": [
    "255 - piece"
   ]
  },
  {
   "cell_type": "markdown",
   "metadata": {
    "id": "sK6vBi_rEWoW"
   },
   "source": [
    "If you got a bit confused with this switch, just look at the array above and convince yourself the the low numbers represent bright spots in the image above.\n",
    "\n",
    "Now we are ready to build our cubical complex. The constructor `cubeComplex` takes two arguments:\n",
    "- `dimensions`: A pair containing width and height of our image\n",
    "- `top_dimensional_cells`: The filtration values of the highest dimension cubes (in our case squares). This has to be a 1D array no matter what the dimension, so we use the Python function `flatten()` to turn our array into a list of numbers."
   ]
  },
  {
   "cell_type": "code",
   "execution_count": null,
   "metadata": {
    "id": "89KKa8zU7V4e"
   },
   "outputs": [],
   "source": [
    "height, width = piece.shape\n",
    "cubeComplex = gudhi.CubicalComplex(\n",
    "    dimensions = [width,height],\n",
    "    top_dimensional_cells = 255 - piece.flatten()\n",
    ")"
   ]
  },
  {
   "cell_type": "markdown",
   "metadata": {
    "id": "l9f4ZwyB85G2"
   },
   "source": [
    "Just for fun, let's see how many cubes (of all dimensions!) are in this cubical complex. Do you understand where this number comes from? Hint: you need all the squares, then all the sides of those squares, and all the corners. "
   ]
  },
  {
   "cell_type": "code",
   "execution_count": null,
   "metadata": {
    "colab": {
     "base_uri": "https://localhost:8080/"
    },
    "id": "9HQC3AmE8PF4",
    "outputId": "82a1f093-ee55-4a47-e2cb-afa4734ee75e"
   },
   "outputs": [],
   "source": [
    "cubeComplex.num_simplices()"
   ]
  },
  {
   "cell_type": "markdown",
   "metadata": {
    "id": "2jZqHar6P4f_"
   },
   "source": [
    "## Time to compute persistent homology\n",
    "`gudhi` calculates persistence for you, so all we have to do is call the `compute_persistence()` function like this."
   ]
  },
  {
   "cell_type": "code",
   "execution_count": null,
   "metadata": {
    "id": "2sHshPOtHCMI"
   },
   "outputs": [],
   "source": [
    "cubeComplex.compute_persistence()"
   ]
  },
  {
   "cell_type": "markdown",
   "metadata": {
    "id": "_AJszq4b-Znn"
   },
   "source": [
    "In order to extract the persistence diagrams, we need to tell `gudhi` which dimension we want. Let's do dimension 0 (connected components) first."
   ]
  },
  {
   "cell_type": "code",
   "execution_count": null,
   "metadata": {
    "id": "bSRJboly91TX"
   },
   "outputs": [],
   "source": [
    "H0 = cubeComplex.persistence_intervals_in_dimension(0)"
   ]
  },
  {
   "cell_type": "code",
   "execution_count": null,
   "metadata": {
    "colab": {
     "base_uri": "https://localhost:8080/"
    },
    "id": "r6siZtv--EGI",
    "outputId": "ab26c0ce-e80c-4058-95f1-4c7ae6b47ac7"
   },
   "outputs": [],
   "source": [
    "H0"
   ]
  },
  {
   "cell_type": "code",
   "execution_count": null,
   "metadata": {
    "colab": {
     "base_uri": "https://localhost:8080/",
     "height": 337
    },
    "id": "u7qUH-IVBeR_",
    "outputId": "f5775209-2799-472b-d63d-7483747dd649"
   },
   "outputs": [],
   "source": [
    "gudhi.plot_persistence_diagram(persistence=H0)"
   ]
  },
  {
   "cell_type": "markdown",
   "metadata": {
    "id": "DaxQ98si-qGe"
   },
   "source": [
    "Take a look at this persistence diagram and look at the picture of the patch above, and decide whether it makes sense to you. High persistence points represent bright clusters of pixels. Do you see the two bright clusters?\n",
    "\n",
    "Now let's do dimension 1."
   ]
  },
  {
   "cell_type": "code",
   "execution_count": null,
   "metadata": {
    "id": "cOSY3zMS-pZJ"
   },
   "outputs": [],
   "source": [
    "H1 = cubeComplex.persistence_intervals_in_dimension(1)"
   ]
  },
  {
   "cell_type": "code",
   "execution_count": null,
   "metadata": {
    "colab": {
     "base_uri": "https://localhost:8080/"
    },
    "id": "MVzGQF1FBwDd",
    "outputId": "c3eb9532-1f3a-489d-8c4b-49d24ef41e62"
   },
   "outputs": [],
   "source": [
    "H1"
   ]
  },
  {
   "cell_type": "code",
   "execution_count": null,
   "metadata": {
    "colab": {
     "base_uri": "https://localhost:8080/",
     "height": 320
    },
    "id": "i2WTHtj7Bjm1",
    "outputId": "50275a9c-d66d-476f-da59-14f620cc2ae1"
   },
   "outputs": [],
   "source": [
    "gudhi.plot_persistence_diagram(persistence=H1)"
   ]
  },
  {
   "cell_type": "markdown",
   "metadata": {
    "id": "1-ot0VZ2DnOO"
   },
   "source": [
    "High persistence points here represent loops of bright pixels with darker pixels inside. Can you see the most prominent loop in the image?"
   ]
  },
  {
   "cell_type": "markdown",
   "metadata": {
    "id": "UP8TkJZrDzT-"
   },
   "source": [
    "## Exercise 1: persistence of `sandhe.png`\n",
    "In the blocks below, write code to display the 0-dimensional and 1-dimensional persistent homology for the top-left 100x100 corner of the image `sandhe.png`. Reuse as much of the above code as you like."
   ]
  },
  {
   "cell_type": "code",
   "execution_count": null,
   "metadata": {
    "id": "eHjFYenmCVz2"
   },
   "outputs": [],
   "source": []
  },
  {
   "cell_type": "markdown",
   "metadata": {
    "id": "zhyez6W65wAA"
   },
   "source": [
    "## Exercise 2: flipping the filter function\n",
    "We chose to make the filter function equal to $255- $ the pixel value, so brighter pixels have lower filter values than whiter ones. But we can also try the opposite. In the code blocks below, repeat Exercise 1, except this time flip the filter values so that whiter pixels have higher filter values and blacker pixels have lower filter values. \n",
    "\n",
    "_Side note_: in [this](https://openaccess.thecvf.com/content_CVPRW_2020/html/w50/Chung_Smooth_Summaries_of_Persistence_Diagrams_and_Texture_Classification_CVPRW_2020_paper.html) paper (by researchers here at UNCG!), the authors use both versions (brighter and darker) just to be sure."
   ]
  },
  {
   "cell_type": "code",
   "execution_count": null,
   "metadata": {
    "id": "XzOumOSo6HXr"
   },
   "outputs": [],
   "source": []
  },
  {
   "cell_type": "markdown",
   "metadata": {},
   "source": [
    "# Challenge questions"
   ]
  },
  {
   "cell_type": "markdown",
   "metadata": {},
   "source": [
    "- Use the `gudhi` functions [here](https://gudhi.inria.fr/python/latest/representations.html) and display the 0- and 1-dimensional persistence image for the top left hand corner of `sandhe.png`.\n",
    "- Use the `gudhi` functions [here](https://gudhi.inria.fr/python/latest/representations.html) and display the 0- and 1-dimensional persistence landscapes (just the first two landscapes is enough) for the top left hand corner of `sandhe.png`.\n",
    "- Compare the persistence images and landscapes of the top left corner of `sandhe.png` and the bottom right corner of the same image. Do they look similar or different (open ended question)."
   ]
  }
 ],
 "metadata": {
  "colab": {
   "collapsed_sections": [],
   "name": "Notebook 2_ Sublevel set cubical filtrations from images.ipynb",
   "provenance": []
  },
  "kernelspec": {
   "display_name": "Python 3",
   "language": "python",
   "name": "python3"
  },
  "language_info": {
   "codemirror_mode": {
    "name": "ipython",
    "version": 3
   },
   "file_extension": ".py",
   "mimetype": "text/x-python",
   "name": "python",
   "nbconvert_exporter": "python",
   "pygments_lexer": "ipython3",
   "version": "3.8.8"
  }
 },
 "nbformat": 4,
 "nbformat_minor": 1
}
